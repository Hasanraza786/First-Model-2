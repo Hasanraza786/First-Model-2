{
 "cells": [
  {
   "cell_type": "code",
   "execution_count": 1,
   "metadata": {},
   "outputs": [],
   "source": [
    "import pandas as pd\n",
    "import numpy as np\n",
    "import tensorflow\n",
    "from tensorflow.keras import layers\n",
    "from tensorflow.keras import models\n",
    "from tensorflow.keras.datasets import mnist\n",
    "import matplotlib.pyplot as plt\n",
    "from tensorflow.keras import optimizers\n",
    "#import all ne(ccessary libraries )"
   ]
  },
  {
   "cell_type": "code",
   "execution_count": 2,
   "metadata": {},
   "outputs": [],
   "source": [
    "(train_images, train_labels ) , (test_images , test_labels) = mnist.load_data()"
   ]
  },
  {
   "cell_type": "code",
   "execution_count": 3,
   "metadata": {},
   "outputs": [],
   "source": [
    "input_tensor = layers.Input(shape=(784,))\n",
    "\n",
    "x = layers.Dense(32, activation='relu')(input_tensor)\n",
    "\n",
    "target_tensor = layers.Dense(10, activation='softmax')(x)\n",
    "\n",
    "mod = models.Model(inputs=input_tensor, outputs=target_tensor)"
   ]
  },
  {
   "cell_type": "code",
   "execution_count": 12,
   "metadata": {},
   "outputs": [],
   "source": [
    "mod.compile(optimizer='rmsprop' , loss='categorical_crossentropy' , metrics=['accuracy'])\n",
    "train_images = train_images.reshape((60000 , 28 * 28))\n",
    "train_images = train_images.astype('float32') / 255\n",
    "test_images = test_images.reshape((10000 , 28 * 28))\n",
    "test_images = test_images.astype('float32') / 255"
   ]
  },
  {
   "cell_type": "code",
   "execution_count": 14,
   "metadata": {},
   "outputs": [],
   "source": [
    "from tensorflow.keras.utils import to_categorical\n",
    "train_labels = to_categorical(train_labels)\n",
    "test_labels = to_categorical(test_labels)"
   ]
  },
  {
   "cell_type": "code",
   "execution_count": 15,
   "metadata": {
    "scrolled": false
   },
   "outputs": [
    {
     "name": "stdout",
     "output_type": "stream",
     "text": [
      "Train on 60000 samples\n",
      "Epoch 1/10\n",
      "60000/60000 [==============================] - 3s 54us/sample - loss: 0.4632 - accuracy: 0.8778\n",
      "Epoch 2/10\n",
      "60000/60000 [==============================] - 2s 29us/sample - loss: 0.2468 - accuracy: 0.9305\n",
      "Epoch 3/10\n",
      "60000/60000 [==============================] - 2s 29us/sample - loss: 0.2066 - accuracy: 0.9420\n",
      "Epoch 4/10\n",
      "60000/60000 [==============================] - 2s 29us/sample - loss: 0.1794 - accuracy: 0.9501\n",
      "Epoch 5/10\n",
      "60000/60000 [==============================] - 2s 29us/sample - loss: 0.1597 - accuracy: 0.9549\n",
      "Epoch 6/10\n",
      "60000/60000 [==============================] - 2s 29us/sample - loss: 0.1448 - accuracy: 0.9592\n",
      "Epoch 7/10\n",
      "60000/60000 [==============================] - 2s 29us/sample - loss: 0.1319 - accuracy: 0.9622\n",
      "Epoch 8/10\n",
      "60000/60000 [==============================] - 2s 29us/sample - loss: 0.1228 - accuracy: 0.9642\n",
      "Epoch 9/10\n",
      "60000/60000 [==============================] - 2s 29us/sample - loss: 0.1143 - accuracy: 0.9673\n",
      "Epoch 10/10\n",
      "60000/60000 [==============================] - 2s 29us/sample - loss: 0.1076 - accuracy: 0.9694\n"
     ]
    },
    {
     "data": {
      "text/plain": [
       "<tensorflow.python.keras.callbacks.History at 0x27e2ebf2bc8>"
      ]
     },
     "execution_count": 15,
     "metadata": {},
     "output_type": "execute_result"
    }
   ],
   "source": [
    "mod.fit(train_images, train_labels , batch_size=128 ,  epochs=10)"
   ]
  },
  {
   "cell_type": "code",
   "execution_count": null,
   "metadata": {},
   "outputs": [],
   "source": []
  }
 ],
 "metadata": {
  "kernelspec": {
   "display_name": "Python 3",
   "language": "python",
   "name": "python3"
  },
  "language_info": {
   "codemirror_mode": {
    "name": "ipython",
    "version": 3
   },
   "file_extension": ".py",
   "mimetype": "text/x-python",
   "name": "python",
   "nbconvert_exporter": "python",
   "pygments_lexer": "ipython3",
   "version": "3.7.4"
  }
 },
 "nbformat": 4,
 "nbformat_minor": 2
}
